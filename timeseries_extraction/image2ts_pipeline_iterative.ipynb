{
 "cells": [
  {
   "cell_type": "markdown",
   "metadata": {},
   "source": [
    "# Notes\n",
    "\n",
    "This notebook is an example of a PRE-PROCESSING pipeline for satellite images with LAI data.\n",
    "It is not meant to be run as a script, but rather to be used as a reference for how to use the preprocessing functions.\n",
    "\n",
    "**IMPORTANT** This notebook assumes one has stored a series of *unpacked* RAS and RHD files in the VISTA format containing \n",
    "- The Leaf Area Index (LAI) values as a tensor of images over time.\n",
    "- The scene classification layer (SCL) of the above images.\n",
    "- Information of the datetimes and the coordinates of the images. \n",
    "\n",
    "The VISTA format is not publicly available, but the functions in this notebook can be used as a reference for how to preprocess satellite images in general.\n",
    "\n",
    "*Example scenario*: We have downloaded the RAS and RHD files containing the LAI values for a sentinel-2 tile (~12k by 12k image) over the span of 2020. We want to preprocess this data for segmentation of fields.\n",
    "\n",
    "*Author*: Jens d'Hondt (TU Eindhoven)"
   ]
  },
  {
   "cell_type": "code",
   "execution_count": 1,
   "metadata": {},
   "outputs": [],
   "source": [
    "# General imports\n",
    "import os\n",
    "import datetime as dt\n",
    "import numpy as np\n",
    "import pandas as pd\n",
    "import matplotlib.pyplot as plt\n",
    "import glob\n",
    "import sys\n",
    "from eolearn.core import EOPatch, FeatureType, OverwritePermission"
   ]
  },
  {
   "cell_type": "markdown",
   "metadata": {},
   "source": [
    "# 0 Unpacking the data (optional)\n",
    "\n",
    "This step is optional for when one had not yet unpacked the VISTA zips containing the RAS and RHD files with LAI values into a series of .npy files, named by the date of the image.\n",
    "(e.g. `2020_1_1.npy`, `2020_1_2.npy`, ...) \n",
    "The unpacking can be done using the `unpack_vista` function in `src/pipeline/preprocessing/vista.py`, as shown below.\n",
    "\n",
    "**Assumptions**:\n",
    "- One has downloaded the VISTA zips and stored them in a folder `$DATADIR`.\n",
    "- The zip is named `LAI.zip` and contains a series of RAS and RHD files named by the tile_id, and the date, month or year of the data in the image (e.g. `30TYQ_LAI_2022.RHD`, `30TYQ_LAI_2022.RAS`, ...).\n",
    "- Those RAS and RHD files can contain multiple images, each with a different date, month or year.\n",
    "\n",
    "**Process**:\n",
    "The function `unpack_vista` will do the following:\n",
    "1. Unzip the zip files in `$DATADIR` for each specified band.\n",
    "2. For each unzipped RAS and RHD file, extract the images and store them in a series of .npy files named by the date of the individual image."
   ]
  },
  {
   "cell_type": "code",
   "execution_count": 2,
   "metadata": {},
   "outputs": [
    {
     "name": "stdout",
     "output_type": "stream",
     "text": [
      "Band LAI already unzipped\n"
     ]
    }
   ],
   "source": [
    "from pipeline.src.preprocessing.vista_preprocessing import unpack_vista\n",
    "\n",
    "bands = ['LAI']\n",
    "\n",
    "# DATADIR = \"FILL IN PATH HERE\"\n",
    "DATADIR = \"/home/jens/ownCloud/Documents/3.Werk/0.TUe_Research/0.STELAR/VISTA/VISTA_code/data/segmentation_example\"\n",
    "\n",
    "unpack_vista(DATADIR, bands)"
   ]
  },
  {
   "cell_type": "markdown",
   "metadata": {},
   "source": [
    "# 1 LAI to CSV\n",
    "\n",
    "In this step we will ADD the LAI values of a tile image to csv files expressing timeseries of LAI values for each pixel OR field (extracted in the segmentation pipeline).\n",
    "\n",
    "The values for collections of pixels and/or fields are stored as column-major csv file with pixel/field ids as columns, and dates as rows. This is to facilitate appending of new data.\n",
    "The values for pixels will be partitioned by *patchlets*, which are subsets of the full image. This is done to reduce the size of the csv files.\n",
    "\n",
    "**Assumptions**:\n",
    "- One has unpacked the image and stored it as a `.npy` file including the date of the image (e.g. `2020_07_12.npy`)."
   ]
  },
  {
   "cell_type": "markdown",
   "metadata": {},
   "source": [
    "## 1.1 LAI to CSV: pixels\n",
    "\n",
    "**Process**:\n",
    "The function `lai_to_csv_px_append` will do the following:\n",
    "\n",
    "1. Break up the image into a series of patchlets.\n",
    "4. Add LAI values for each pixel to the respective csv file."
   ]
  },
  {
   "cell_type": "code",
   "execution_count": 2,
   "metadata": {},
   "outputs": [
    {
     "name": "stdout",
     "output_type": "stream",
     "text": [
      "Saving timeseries for patchlet 81/81\r"
     ]
    }
   ],
   "source": [
    "from src.preprocessing.timeseries import lai_to_csv_px_append\n",
    "\n",
    "DATADIR = \"/home/jens/ownCloud/Documents/3.Werk/0.TUe_Research/0.STELAR/VISTA/VISTA_code/data/segmentation_example\"\n",
    "npy_path = os.path.join(DATADIR, 'LAI', '2020_07_12.npy')\n",
    "outdir = os.path.join(DATADIR, 'lai_px_timeseries')\n",
    "\n",
    "lai_to_csv_px_append(npy_path, outdir)"
   ]
  },
  {
   "cell_type": "code",
   "execution_count": 3,
   "metadata": {},
   "outputs": [
    {
     "data": {
      "text/html": [
       "<div>\n",
       "<style scoped>\n",
       "    .dataframe tbody tr th:only-of-type {\n",
       "        vertical-align: middle;\n",
       "    }\n",
       "\n",
       "    .dataframe tbody tr th {\n",
       "        vertical-align: top;\n",
       "    }\n",
       "\n",
       "    .dataframe thead th {\n",
       "        text-align: right;\n",
       "    }\n",
       "</style>\n",
       "<table border=\"1\" class=\"dataframe\">\n",
       "  <thead>\n",
       "    <tr style=\"text-align: right;\">\n",
       "      <th></th>\n",
       "      <th>index</th>\n",
       "      <th>0_0</th>\n",
       "      <th>1_0</th>\n",
       "      <th>2_0</th>\n",
       "      <th>3_0</th>\n",
       "      <th>4_0</th>\n",
       "      <th>5_0</th>\n",
       "      <th>6_0</th>\n",
       "      <th>7_0</th>\n",
       "      <th>8_0</th>\n",
       "    </tr>\n",
       "  </thead>\n",
       "  <tbody>\n",
       "    <tr>\n",
       "      <th>246</th>\n",
       "      <td>2022-12-06</td>\n",
       "      <td>-910</td>\n",
       "      <td>-910</td>\n",
       "      <td>-910</td>\n",
       "      <td>-910</td>\n",
       "      <td>-910</td>\n",
       "      <td>-910</td>\n",
       "      <td>-910</td>\n",
       "      <td>-910</td>\n",
       "      <td>-910</td>\n",
       "    </tr>\n",
       "    <tr>\n",
       "      <th>247</th>\n",
       "      <td>2022-12-11</td>\n",
       "      <td>3660</td>\n",
       "      <td>3657</td>\n",
       "      <td>3842</td>\n",
       "      <td>3685</td>\n",
       "      <td>3629</td>\n",
       "      <td>4241</td>\n",
       "      <td>4255</td>\n",
       "      <td>4122</td>\n",
       "      <td>2869</td>\n",
       "    </tr>\n",
       "    <tr>\n",
       "      <th>248</th>\n",
       "      <td>2022-12-16</td>\n",
       "      <td>2949</td>\n",
       "      <td>3017</td>\n",
       "      <td>3142</td>\n",
       "      <td>3211</td>\n",
       "      <td>3225</td>\n",
       "      <td>3882</td>\n",
       "      <td>3635</td>\n",
       "      <td>3353</td>\n",
       "      <td>2198</td>\n",
       "    </tr>\n",
       "    <tr>\n",
       "      <th>249</th>\n",
       "      <td>2022-12-21</td>\n",
       "      <td>-910</td>\n",
       "      <td>-910</td>\n",
       "      <td>-910</td>\n",
       "      <td>-910</td>\n",
       "      <td>-910</td>\n",
       "      <td>-910</td>\n",
       "      <td>-910</td>\n",
       "      <td>-910</td>\n",
       "      <td>-910</td>\n",
       "    </tr>\n",
       "    <tr>\n",
       "      <th>250</th>\n",
       "      <td>2020-07-12</td>\n",
       "      <td>4436</td>\n",
       "      <td>5735</td>\n",
       "      <td>6061</td>\n",
       "      <td>6114</td>\n",
       "      <td>6046</td>\n",
       "      <td>5814</td>\n",
       "      <td>5953</td>\n",
       "      <td>5793</td>\n",
       "      <td>5987</td>\n",
       "    </tr>\n",
       "  </tbody>\n",
       "</table>\n",
       "</div>"
      ],
      "text/plain": [
       "          index   0_0   1_0   2_0   3_0   4_0   5_0   6_0   7_0   8_0\n",
       "246  2022-12-06  -910  -910  -910  -910  -910  -910  -910  -910  -910\n",
       "247  2022-12-11  3660  3657  3842  3685  3629  4241  4255  4122  2869\n",
       "248  2022-12-16  2949  3017  3142  3211  3225  3882  3635  3353  2198\n",
       "249  2022-12-21  -910  -910  -910  -910  -910  -910  -910  -910  -910\n",
       "250  2020-07-12  4436  5735  6061  6114  6046  5814  5953  5793  5987"
      ]
     },
     "execution_count": 3,
     "metadata": {},
     "output_type": "execute_result"
    }
   ],
   "source": [
    "# Check csv file\n",
    "csv_path = \"/home/jens/ownCloud/Documents/3.Werk/0.TUe_Research/0.STELAR/VISTA/VISTA_code/data/segmentation_example/lai_px_timeseries/patchlet_0_0.csv\"\n",
    "\n",
    "df = pd.read_csv(csv_path, usecols=np.arange(10))\n",
    "\n",
    "df.tail()"
   ]
  },
  {
   "cell_type": "markdown",
   "metadata": {},
   "source": [
    "## 2.2 LAI to CSV: field values\n",
    "\n",
    "**Process**:\n",
    "The function `lai_to_csv_field_append` will do the following:\n",
    "\n",
    "1. Temporarily save the npy file as an eopatch (necessary for masking with field shapes)\n",
    "2. Temporarily save the npy file as a tiff (necessary for masking with field shapes)\n",
    "3. Load the tiff.\n",
    "4. For each field:\n",
    "    5. Mask the LAI values for the field.\n",
    "    6. Take the median of the LAI values for the field for each date.\n",
    "    7. Append the LAI values for the field to the corresponding csv file."
   ]
  },
  {
   "cell_type": "code",
   "execution_count": 3,
   "metadata": {},
   "outputs": [
    {
     "name": "stdout",
     "output_type": "stream",
     "text": [
      "Temporarily saving npy as eopatch\n",
      "Processing eopatch 1/1\n",
      "3. Masking tiff and saving timeseries\r"
     ]
    },
    {
     "name": "stderr",
     "output_type": "stream",
     "text": [
      "100%|██████████| 83198/83198 [02:56<00:00, 471.78it/s]\n"
     ]
    },
    {
     "name": "stdout",
     "output_type": "stream",
     "text": [
      "Done\n",
      "Removing temporarily saved eopatch\n"
     ]
    }
   ],
   "source": [
    "from src.preprocessing.timeseries import lai_to_csv_field_append\n",
    "\n",
    "DATADIR = \"/home/jens/ownCloud/Documents/3.Werk/0.TUe_Research/0.STELAR/VISTA/VISTA_code/data/segmentation_example\"\n",
    "npy_path = os.path.join(DATADIR, 'LAI', '2020_07_12.npy')\n",
    "bbox_path = os.path.join(DATADIR, \"LAI\", 'bbox.pkl')\n",
    "fields_path = os.path.join(DATADIR, 'fields.gpkg')\n",
    "\n",
    "lai_to_csv_field_append(npy_path, bbox_path, fields_path, outdir=DATADIR)"
   ]
  },
  {
   "cell_type": "code",
   "execution_count": 4,
   "metadata": {},
   "outputs": [
    {
     "data": {
      "text/html": [
       "<div>\n",
       "<style scoped>\n",
       "    .dataframe tbody tr th:only-of-type {\n",
       "        vertical-align: middle;\n",
       "    }\n",
       "\n",
       "    .dataframe tbody tr th {\n",
       "        vertical-align: top;\n",
       "    }\n",
       "\n",
       "    .dataframe thead th {\n",
       "        text-align: right;\n",
       "    }\n",
       "</style>\n",
       "<table border=\"1\" class=\"dataframe\">\n",
       "  <thead>\n",
       "    <tr style=\"text-align: right;\">\n",
       "      <th></th>\n",
       "      <th>Unnamed: 0</th>\n",
       "      <th>0</th>\n",
       "      <th>3</th>\n",
       "      <th>4</th>\n",
       "      <th>5</th>\n",
       "      <th>6</th>\n",
       "      <th>7</th>\n",
       "      <th>8</th>\n",
       "      <th>9</th>\n",
       "      <th>10</th>\n",
       "    </tr>\n",
       "  </thead>\n",
       "  <tbody>\n",
       "    <tr>\n",
       "      <th>261</th>\n",
       "      <td>2020-03-26</td>\n",
       "      <td>1922.0</td>\n",
       "      <td>518.0</td>\n",
       "      <td>350.5</td>\n",
       "      <td>240.0</td>\n",
       "      <td>159.5</td>\n",
       "      <td>3356.0</td>\n",
       "      <td>2272.0</td>\n",
       "      <td>1444.0</td>\n",
       "      <td>3186.0</td>\n",
       "    </tr>\n",
       "    <tr>\n",
       "      <th>262</th>\n",
       "      <td>2020-03-31</td>\n",
       "      <td>1636.0</td>\n",
       "      <td>660.0</td>\n",
       "      <td>460.5</td>\n",
       "      <td>426.0</td>\n",
       "      <td>243.5</td>\n",
       "      <td>3076.0</td>\n",
       "      <td>1760.0</td>\n",
       "      <td>1308.0</td>\n",
       "      <td>2892.0</td>\n",
       "    </tr>\n",
       "    <tr>\n",
       "      <th>263</th>\n",
       "      <td>2020-04-03</td>\n",
       "      <td>1534.0</td>\n",
       "      <td>360.0</td>\n",
       "      <td>308.0</td>\n",
       "      <td>182.0</td>\n",
       "      <td>136.5</td>\n",
       "      <td>3148.0</td>\n",
       "      <td>2092.0</td>\n",
       "      <td>1351.0</td>\n",
       "      <td>3064.0</td>\n",
       "    </tr>\n",
       "    <tr>\n",
       "      <th>264</th>\n",
       "      <td>2020-04-05</td>\n",
       "      <td>1477.0</td>\n",
       "      <td>232.0</td>\n",
       "      <td>246.5</td>\n",
       "      <td>187.0</td>\n",
       "      <td>126.5</td>\n",
       "      <td>2968.0</td>\n",
       "      <td>2027.0</td>\n",
       "      <td>1284.0</td>\n",
       "      <td>2916.0</td>\n",
       "    </tr>\n",
       "    <tr>\n",
       "      <th>265</th>\n",
       "      <td>2020-07-12</td>\n",
       "      <td>2968.0</td>\n",
       "      <td>NaN</td>\n",
       "      <td>2756.0</td>\n",
       "      <td>787.5</td>\n",
       "      <td>253.0</td>\n",
       "      <td>NaN</td>\n",
       "      <td>873.0</td>\n",
       "      <td>1709.0</td>\n",
       "      <td>3244.0</td>\n",
       "    </tr>\n",
       "  </tbody>\n",
       "</table>\n",
       "</div>"
      ],
      "text/plain": [
       "     Unnamed: 0       0      3       4      5      6       7       8       9  \\\n",
       "261  2020-03-26  1922.0  518.0   350.5  240.0  159.5  3356.0  2272.0  1444.0   \n",
       "262  2020-03-31  1636.0  660.0   460.5  426.0  243.5  3076.0  1760.0  1308.0   \n",
       "263  2020-04-03  1534.0  360.0   308.0  182.0  136.5  3148.0  2092.0  1351.0   \n",
       "264  2020-04-05  1477.0  232.0   246.5  187.0  126.5  2968.0  2027.0  1284.0   \n",
       "265  2020-07-12  2968.0    NaN  2756.0  787.5  253.0     NaN   873.0  1709.0   \n",
       "\n",
       "         10  \n",
       "261  3186.0  \n",
       "262  2892.0  \n",
       "263  3064.0  \n",
       "264  2916.0  \n",
       "265  3244.0  "
      ]
     },
     "execution_count": 4,
     "metadata": {},
     "output_type": "execute_result"
    }
   ],
   "source": [
    "# Read csv to check\n",
    "path = \"/home/jens/ownCloud/Documents/3.Werk/0.TUe_Research/0.STELAR/VISTA/VISTA_code/data/segmentation_example/lai_field_timeseries.csv\"\n",
    "\n",
    "df = pd.read_csv(path, usecols=np.arange(0, 10))\n",
    "\n",
    "df.tail()"
   ]
  },
  {
   "cell_type": "code",
   "execution_count": null,
   "metadata": {},
   "outputs": [],
   "source": []
  }
 ],
 "metadata": {
  "kernelspec": {
   "display_name": ".venv",
   "language": "python",
   "name": "python3"
  },
  "language_info": {
   "codemirror_mode": {
    "name": "ipython",
    "version": 3
   },
   "file_extension": ".py",
   "mimetype": "text/x-python",
   "name": "python",
   "nbconvert_exporter": "python",
   "pygments_lexer": "ipython3",
   "version": "3.10.12"
  },
  "orig_nbformat": 4
 },
 "nbformat": 4,
 "nbformat_minor": 2
}
