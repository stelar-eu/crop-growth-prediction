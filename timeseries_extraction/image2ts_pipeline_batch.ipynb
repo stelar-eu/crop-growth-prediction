{
 "cells": [
  {
   "cell_type": "markdown",
   "metadata": {},
   "source": [
    "# Notes\n",
    "\n",
    "This notebook is an example of a PRE-PROCESSING pipeline for satellite images with LAI data.\n",
    "It is not meant to be run as a script, but rather to be used as a reference for how to use the preprocessing functions.\n",
    "\n",
    "**IMPORTANT** This notebook assumes one has stored a series of *unpacked* RAS and RHD files in the VISTA format containing \n",
    "- The Leaf Area Index (LAI) values as a tensor of images over time.\n",
    "- The scene classification layer (SCL) of the above images.\n",
    "- Information of the datetimes and the coordinates of the images. \n",
    "\n",
    "The VISTA format is not publicly available, but the functions in this notebook can be used as a reference for how to preprocess satellite images in general.\n",
    "\n",
    "*Example scenario*: We have downloaded the RAS and RHD files containing the LAI values for a sentinel-2 tile (~12k by 12k image) over the span of 2020. We want to preprocess this data for segmentation of fields.\n",
    "\n",
    "*Author*: Jens d'Hondt (TU Eindhoven)"
   ]
  },
  {
   "cell_type": "code",
   "execution_count": 1,
   "metadata": {},
   "outputs": [],
   "source": [
    "# General imports\n",
    "import os\n",
    "import datetime as dt\n",
    "import numpy as np\n",
    "import pandas as pd\n",
    "import matplotlib.pyplot as plt\n",
    "import glob\n",
    "import sys\n",
    "from eolearn.core import EOPatch"
   ]
  },
  {
   "cell_type": "markdown",
   "metadata": {},
   "source": [
    "# 0 Unpacking the data (optional)\n",
    "\n",
    "This step is optional for when one had not yet unpacked the VISTA zips containing the RAS and RHD files with LAI values into a series of .npy files, named by the date of the image.\n",
    "(e.g. `2020_1_1.npy`, `2020_1_2.npy`, ...) \n",
    "The unpacking can be done using the `unpack_vista` function in `src/pipeline/preprocessing/vista.py`, as shown below.\n",
    "\n",
    "**Assumptions**:\n",
    "- One has downloaded the VISTA zips and stored them in a folder `$DATADIR`.\n",
    "- The zip is named `LAI.zip` and contains a series of RAS and RHD files named by the tile_id, and the date, month or year of the data in the image (e.g. `30TYQ_LAI_2022.RHD`, `30TYQ_LAI_2022.RAS`, ...).\n",
    "- Those RAS and RHD files can contain multiple images, each with a different date, month or year.\n",
    "\n",
    "**Process**:\n",
    "The function `unpack_vista` will do the following:\n",
    "1. Unzip the zip files in `$DATADIR` for each specified band.\n",
    "2. For each unzipped RAS and RHD file, extract the images and store them in a series of .npy files named by the date of the individual image."
   ]
  },
  {
   "cell_type": "code",
   "execution_count": 2,
   "metadata": {},
   "outputs": [
    {
     "name": "stdout",
     "output_type": "stream",
     "text": [
      "Band LAI already unzipped\n"
     ]
    }
   ],
   "source": [
    "from pipeline.src.preprocessing.vista_preprocessing import unpack_vista\n",
    "\n",
    "bands = ['LAI']\n",
    "\n",
    "# DATADIR = \"FILL IN PATH HERE\"\n",
    "DATADIR = \"/home/jens/ownCloud/Documents/3.Werk/0.TUe_Research/0.STELAR/VISTA/VISTA_code/data/segmentation_example\"\n",
    "\n",
    "unpack_vista(DATADIR, bands)"
   ]
  },
  {
   "cell_type": "markdown",
   "metadata": {},
   "source": [
    "# 1 Combining images to eopatches\n",
    "\n",
    "In this step we will combine the individual LAI images into a tensor, or package of images. \n",
    "\n",
    "**Assumptions**:\n",
    "- One has stored the .npy files containing the images in a folder `$DATADIR` following the structure `DATADIR/LAI/{date}.npy`.\n",
    "\n",
    "**Process**:\n",
    "The function `combine_bands` will do the following:\n",
    "1. Partition the .npy files into a series of EOPatches, each containing a tensor of images, the corresponding datetimes and bounding box."
   ]
  },
  {
   "cell_type": "code",
   "execution_count": 2,
   "metadata": {},
   "outputs": [
    {
     "name": "stdout",
     "output_type": "stream",
     "text": [
      "Processing 14 partitions of 19 dates each\n",
      "Saving eopatch 14/14 14/14\r"
     ]
    },
    {
     "data": {
      "text/plain": [
       "EOPatch(\n",
       "  data: {\n",
       "    LAI: numpy.ndarray(shape=(18, 10002, 10002, 1), dtype=int16)\n",
       "  }\n",
       "  mask: {}\n",
       "  scalar: {}\n",
       "  label: {}\n",
       "  vector: {}\n",
       "  data_timeless: {}\n",
       "  mask_timeless: {}\n",
       "  scalar_timeless: {}\n",
       "  label_timeless: {}\n",
       "  vector_timeless: {}\n",
       "  meta_info: {}\n",
       "  bbox: BBox(((704855.0, 4995145.0), (804875.0, 5095165.0)), crs=CRS('32630'))\n",
       "  timestamp: [datetime.datetime(2022, 10, 7, 0, 0), ..., datetime.datetime(2022, 12, 31, 0, 0)], length=18\n",
       ")"
      ]
     },
     "execution_count": 2,
     "metadata": {},
     "output_type": "execute_result"
    }
   ],
   "source": [
    "from pipeline.src.preprocessing.preprocessing import combine_npys_to_eopatch, max_partition_size\n",
    "import math\n",
    "\n",
    "# The selection of dates we want to use for segmentation\n",
    "DATADIR = \"/home/jens/ownCloud/Documents/3.Werk/0.TUe_Research/0.STELAR/VISTA/VISTA_code/data/segmentation_example\"\n",
    "\n",
    "npy_files = glob.glob(os.path.join(DATADIR, \"LAI\",\"*.npy\"))\n",
    "max_partition_size = max_partition_size(npy_files[0], MAX_RAM=4 * 1e9)\n",
    "\n",
    "eopatch = combine_npys_to_eopatch(datadir=DATADIR, \n",
    "                        eopatch_name=\"lai_eopatch\",\n",
    "                        feature_name=\"LAI\",\n",
    "                        bands=['LAI'],\n",
    "                        derive_mask=False,\n",
    "                        delete_after=False,\n",
    "                        partition_size=max_partition_size,\n",
    "                        )\n",
    "eopatch"
   ]
  },
  {
   "cell_type": "markdown",
   "metadata": {},
   "source": [
    "# 2 LAI to CSV\n",
    "\n",
    "In this step we will convert the LAI values to a timeseries of LAI values for each pixel OR field (extracted in the segmentation pipeline).\n",
    "The conversion into timeseries will be done per image.\n",
    "\n",
    "The values for collections of pixels and/or fields will be stored as column-major csv file with pixel/field ids as columns, and dates as rows. This is to facilitate appending of new data.\n",
    "The values for pixels will be partitioned by *patchlets*, which are subsets of the full image. This is done to reduce the size of the csv files.\n",
    "\n",
    "**Assumptions**:\n",
    "- One has stored the EOPatch objects in a folder `$DATADIR` following the structure `DATADIR/lai_eopatch/lai_eopatch_{start_date}` (see step 1)."
   ]
  },
  {
   "cell_type": "markdown",
   "metadata": {},
   "source": [
    "## 2.1 LAI to CSV: pixel values"
   ]
  },
  {
   "cell_type": "markdown",
   "metadata": {},
   "source": [
    "### 2.1.2 Approach 1: npys -> eopatches -> p patchlets per date -> p patchlets -> timeseries\n",
    "\n",
    "**Process**:\n",
    "The function `lai_to_csv_px` will do the following:\n",
    "\n",
    "0. Turn each image into an eopatch (see step 1).\n",
    "1. We break up each image into a series of patchlets.\n",
    "2. We combine the data for each patchlet into a single eopatch.\n",
    "3. We convert the eopatch into a timeseries of LAI values for each pixel.\n",
    "4. (Optional) Combine the timeseries of LAI values for each pixel into a single csv file."
   ]
  },
  {
   "cell_type": "code",
   "execution_count": 2,
   "metadata": {},
   "outputs": [
    {
     "name": "stdout",
     "output_type": "stream",
     "text": [
      "1. Splitting tiles into patchlets\n"
     ]
    },
    {
     "name": "stderr",
     "output_type": "stream",
     "text": [
      "100%|██████████| 14/14 [17:41<00:00, 75.84s/it]\n"
     ]
    },
    {
     "name": "stdout",
     "output_type": "stream",
     "text": [
      "2. Combining dates per patchlet\n"
     ]
    },
    {
     "name": "stderr",
     "output_type": "stream",
     "text": [
      "100%|██████████| 81/81 [05:22<00:00,  3.99s/it]\n"
     ]
    },
    {
     "name": "stdout",
     "output_type": "stream",
     "text": [
      "3. Extracting time series from each patchlet\n",
      "Saving patchlet 81/81\r"
     ]
    }
   ],
   "source": [
    "from src.preprocessing.timeseries import lai_to_csv_px\n",
    "\n",
    "DATADIR = \"/home/jens/ownCloud/Documents/3.Werk/0.TUe_Research/0.STELAR/VISTA/VISTA_code/data/segmentation_example\"\n",
    "eop_paths = glob.glob(os.path.join(DATADIR, \"lai_eopatch\", \"*\"))\n",
    "patchlet_dir = os.path.join(DATADIR, \"patchlets\", \"lai\")\n",
    "outdir = os.path.join(DATADIR, \"lai_px_timeseries\")\n",
    "\n",
    "# Turn the LAI values into a csv file\n",
    "lai_to_csv_px(eop_paths, patchlet_dir=patchlet_dir, outdir=outdir, delete_patchlets=True)"
   ]
  },
  {
   "cell_type": "markdown",
   "metadata": {},
   "source": [
    "### 2.1.2 Approach 2: Iterative approach to building the timeseries\n",
    "\n",
    "**Process**:\n",
    "The function `lai_to_csv_px_iterative` will do the following:\n",
    "- For each image:\n",
    "    1. Load the LAI values.\n",
    "    2. Append the LAI value for each pixel to the corresponding csv file in parallel."
   ]
  },
  {
   "cell_type": "code",
   "execution_count": 24,
   "metadata": {},
   "outputs": [],
   "source": [
    "def initialize_lai_csv(csv_path:str):\n",
    "    with open(csv_path, \"w\") as f:\n",
    "        f.write(\"datetime,value\\n\")\n",
    "\n",
    "def append_lai_csv(csv_path:str, datetime:dt.datetime, value:float):\n",
    "    with open(csv_path, \"a\") as f:\n",
    "        f.write(f\"{datetime},{value}\\n\")\n",
    "\n",
    "def save_lai_to_csv(xy_value:tuple, outdir:str, tile_id:str, datetime:dt.datetime):\n",
    "    x,y,value = xy_value\n",
    "    csv_path = get_px_csv_path(outdir, tile_id, str(x), str(y))\n",
    "    os.makedirs(os.path.dirname(csv_path), exist_ok=True)\n",
    "    if not os.path.exists(csv_path):\n",
    "        initialize_lai_csv(csv_path)\n",
    "    append_lai_csv(csv_path, datetime, value)\n",
    "\n",
    "def save_lai_to_csv_chunk(xy_values:list, outdir:str, tile_id:str, datetime:dt.datetime):\n",
    "    for xy_value in xy_values:\n",
    "        save_lai_to_csv(xy_value, outdir, tile_id, datetime)"
   ]
  },
  {
   "cell_type": "code",
   "execution_count": 4,
   "metadata": {},
   "outputs": [],
   "source": [
    "from src.lib import multiprocess_map\n",
    "\n",
    "def save_lai_csv(npy_path:str, outdir:str, tile_id:str = \"30TYQ\", n_jobs:int = 4):\n",
    "    # Load the npy file into memory\n",
    "    LAI = np.load(npy_path)\n",
    "\n",
    "    # Get the datetime from the filename\n",
    "    datetime = dt.datetime.strptime(os.path.basename(npy_path).replace(\".npy\", \"\"), \"%Y_%m_%d\")\n",
    "\n",
    "    # Get good px values\n",
    "    pxdf = get_good_px_df(LAI)\n",
    "\n",
    "    # Process the px values in chunks in parallel\n",
    "    CHUNK_SIZE = 1_000_000\n",
    "\n",
    "    # Turn pxdf into a list of tuples\n",
    "    pxdf = pxdf.to_records(index=False).tolist()\n",
    "\n",
    "    # Divide the px values into chunks\n",
    "    chunks = [pxdf[i:i+CHUNK_SIZE] for i in range(0, len(pxdf), CHUNK_SIZE)]\n",
    "\n",
    "    # Save the px values to csv in parallel\n",
    "    multiprocess_map(save_lai_to_csv_chunk, chunks, outdir=outdir, tile_id=tile_id, datetime=datetime, n_jobs=n_jobs)"
   ]
  },
  {
   "cell_type": "code",
   "execution_count": 5,
   "metadata": {},
   "outputs": [
    {
     "name": "stderr",
     "output_type": "stream",
     "text": [
      "  0%|          | 0/57 [01:03<?, ?it/s]\n"
     ]
    },
    {
     "ename": "KeyboardInterrupt",
     "evalue": "",
     "output_type": "error",
     "traceback": [
      "\u001b[0;31m---------------------------------------------------------------------------\u001b[0m",
      "\u001b[0;31mIndexError\u001b[0m                                Traceback (most recent call last)",
      "File \u001b[0;32m/usr/lib/python3.10/multiprocessing/pool.py:856\u001b[0m, in \u001b[0;36mIMapIterator.next\u001b[0;34m(self, timeout)\u001b[0m\n\u001b[1;32m    855\u001b[0m \u001b[39mtry\u001b[39;00m:\n\u001b[0;32m--> 856\u001b[0m     item \u001b[39m=\u001b[39m \u001b[39mself\u001b[39;49m\u001b[39m.\u001b[39;49m_items\u001b[39m.\u001b[39;49mpopleft()\n\u001b[1;32m    857\u001b[0m \u001b[39mexcept\u001b[39;00m \u001b[39mIndexError\u001b[39;00m:\n",
      "\u001b[0;31mIndexError\u001b[0m: pop from an empty deque",
      "\nDuring handling of the above exception, another exception occurred:\n",
      "\u001b[0;31mKeyboardInterrupt\u001b[0m                         Traceback (most recent call last)",
      "Cell \u001b[0;32mIn[5], line 6\u001b[0m\n\u001b[1;32m      3\u001b[0m npys \u001b[39m=\u001b[39m glob\u001b[39m.\u001b[39mglob(os\u001b[39m.\u001b[39mpath\u001b[39m.\u001b[39mjoin(DATADIR, \u001b[39m\"\u001b[39m\u001b[39mLAI\u001b[39m\u001b[39m\"\u001b[39m, \u001b[39m\"\u001b[39m\u001b[39m*.npy\u001b[39m\u001b[39m\"\u001b[39m))\n\u001b[1;32m      4\u001b[0m npys\u001b[39m.\u001b[39msort()\n\u001b[0;32m----> 6\u001b[0m save_lai_csv(npys[\u001b[39m0\u001b[39;49m], DATADIR, n_jobs\u001b[39m=\u001b[39;49m\u001b[39m8\u001b[39;49m)\n",
      "Cell \u001b[0;32mIn[4], line 23\u001b[0m, in \u001b[0;36msave_lai_csv\u001b[0;34m(npy_path, outdir, tile_id, n_jobs)\u001b[0m\n\u001b[1;32m     20\u001b[0m chunks \u001b[39m=\u001b[39m [pxdf[i:i\u001b[39m+\u001b[39mCHUNK_SIZE] \u001b[39mfor\u001b[39;00m i \u001b[39min\u001b[39;00m \u001b[39mrange\u001b[39m(\u001b[39m0\u001b[39m, \u001b[39mlen\u001b[39m(pxdf), CHUNK_SIZE)]\n\u001b[1;32m     22\u001b[0m \u001b[39m# Save the px values to csv in parallel\u001b[39;00m\n\u001b[0;32m---> 23\u001b[0m multiprocess_map(save_lai_to_csv_chunk, chunks, outdir\u001b[39m=\u001b[39;49moutdir, tile_id\u001b[39m=\u001b[39;49mtile_id, datetime\u001b[39m=\u001b[39;49mdatetime, n_jobs\u001b[39m=\u001b[39;49mn_jobs)\n",
      "File \u001b[0;32m~/ownCloud/Documents/3.Werk/0.TUe_Research/0.STELAR/VISTA/VISTA_code/.venv/lib/python3.10/site-packages/decorator.py:232\u001b[0m, in \u001b[0;36mdecorate.<locals>.fun\u001b[0;34m(*args, **kw)\u001b[0m\n\u001b[1;32m    230\u001b[0m \u001b[39mif\u001b[39;00m \u001b[39mnot\u001b[39;00m kwsyntax:\n\u001b[1;32m    231\u001b[0m     args, kw \u001b[39m=\u001b[39m fix(args, kw, sig)\n\u001b[0;32m--> 232\u001b[0m \u001b[39mreturn\u001b[39;00m caller(func, \u001b[39m*\u001b[39;49m(extras \u001b[39m+\u001b[39;49m args), \u001b[39m*\u001b[39;49m\u001b[39m*\u001b[39;49mkw)\n",
      "File \u001b[0;32m~/ownCloud/Documents/3.Werk/0.TUe_Research/0.STELAR/VISTA/VISTA_code/src/pipeline/src/lib.py:35\u001b[0m, in \u001b[0;36mcheck_types\u001b[0;34m(func, *args, **kwargs)\u001b[0m\n\u001b[1;32m     33\u001b[0m     \u001b[39mif\u001b[39;00m \u001b[39mnot\u001b[39;00m \u001b[39misinstance\u001b[39m(value, expected_type):\n\u001b[1;32m     34\u001b[0m         \u001b[39mraise\u001b[39;00m \u001b[39mTypeError\u001b[39;00m(\u001b[39mf\u001b[39m\u001b[39m\"\u001b[39m\u001b[39mExpected type \u001b[39m\u001b[39m{\u001b[39;00mexpected_type\u001b[39m.\u001b[39m\u001b[39m__name__\u001b[39m\u001b[39m}\u001b[39;00m\u001b[39m for argument \u001b[39m\u001b[39m'\u001b[39m\u001b[39m{\u001b[39;00mname\u001b[39m}\u001b[39;00m\u001b[39m'\u001b[39m\u001b[39m, but got type \u001b[39m\u001b[39m{\u001b[39;00m\u001b[39mtype\u001b[39m(value)\u001b[39m.\u001b[39m\u001b[39m__name__\u001b[39m\u001b[39m}\u001b[39;00m\u001b[39m instead\u001b[39m\u001b[39m\"\u001b[39m)\n\u001b[0;32m---> 35\u001b[0m \u001b[39mreturn\u001b[39;00m func(\u001b[39m*\u001b[39;49margs, \u001b[39m*\u001b[39;49m\u001b[39m*\u001b[39;49mkwargs)\n",
      "File \u001b[0;32m~/ownCloud/Documents/3.Werk/0.TUe_Research/0.STELAR/VISTA/VISTA_code/src/pipeline/src/lib.py:64\u001b[0m, in \u001b[0;36mmultiprocess_map\u001b[0;34m(func, object_list, n_jobs, **kwargs)\u001b[0m\n\u001b[1;32m     62\u001b[0m partial_func \u001b[39m=\u001b[39m partial(func, \u001b[39m*\u001b[39m\u001b[39m*\u001b[39mkwargs)\n\u001b[1;32m     63\u001b[0m \u001b[39mwith\u001b[39;00m Pool(n_jobs) \u001b[39mas\u001b[39;00m pool:\n\u001b[0;32m---> 64\u001b[0m     results \u001b[39m=\u001b[39m \u001b[39mlist\u001b[39;49m(tqdm(pool\u001b[39m.\u001b[39;49mimap_unordered(partial_func, object_list), total\u001b[39m=\u001b[39;49m\u001b[39mlen\u001b[39;49m(object_list)))\n\u001b[1;32m     65\u001b[0m \u001b[39mprint\u001b[39m(\u001b[39m\"\u001b[39m\u001b[39mDone\u001b[39m\u001b[39m\"\u001b[39m)\n\u001b[1;32m     66\u001b[0m \u001b[39mreturn\u001b[39;00m results\n",
      "File \u001b[0;32m~/ownCloud/Documents/3.Werk/0.TUe_Research/0.STELAR/VISTA/VISTA_code/.venv/lib/python3.10/site-packages/tqdm/std.py:1178\u001b[0m, in \u001b[0;36mtqdm.__iter__\u001b[0;34m(self)\u001b[0m\n\u001b[1;32m   1175\u001b[0m time \u001b[39m=\u001b[39m \u001b[39mself\u001b[39m\u001b[39m.\u001b[39m_time\n\u001b[1;32m   1177\u001b[0m \u001b[39mtry\u001b[39;00m:\n\u001b[0;32m-> 1178\u001b[0m     \u001b[39mfor\u001b[39;00m obj \u001b[39min\u001b[39;00m iterable:\n\u001b[1;32m   1179\u001b[0m         \u001b[39myield\u001b[39;00m obj\n\u001b[1;32m   1180\u001b[0m         \u001b[39m# Update and possibly print the progressbar.\u001b[39;00m\n\u001b[1;32m   1181\u001b[0m         \u001b[39m# Note: does not call self.update(1) for speed optimisation.\u001b[39;00m\n",
      "File \u001b[0;32m/usr/lib/python3.10/multiprocessing/pool.py:861\u001b[0m, in \u001b[0;36mIMapIterator.next\u001b[0;34m(self, timeout)\u001b[0m\n\u001b[1;32m    859\u001b[0m     \u001b[39mself\u001b[39m\u001b[39m.\u001b[39m_pool \u001b[39m=\u001b[39m \u001b[39mNone\u001b[39;00m\n\u001b[1;32m    860\u001b[0m     \u001b[39mraise\u001b[39;00m \u001b[39mStopIteration\u001b[39;00m \u001b[39mfrom\u001b[39;00m \u001b[39mNone\u001b[39;00m\n\u001b[0;32m--> 861\u001b[0m \u001b[39mself\u001b[39;49m\u001b[39m.\u001b[39;49m_cond\u001b[39m.\u001b[39;49mwait(timeout)\n\u001b[1;32m    862\u001b[0m \u001b[39mtry\u001b[39;00m:\n\u001b[1;32m    863\u001b[0m     item \u001b[39m=\u001b[39m \u001b[39mself\u001b[39m\u001b[39m.\u001b[39m_items\u001b[39m.\u001b[39mpopleft()\n",
      "File \u001b[0;32m/usr/lib/python3.10/threading.py:320\u001b[0m, in \u001b[0;36mCondition.wait\u001b[0;34m(self, timeout)\u001b[0m\n\u001b[1;32m    318\u001b[0m \u001b[39mtry\u001b[39;00m:    \u001b[39m# restore state no matter what (e.g., KeyboardInterrupt)\u001b[39;00m\n\u001b[1;32m    319\u001b[0m     \u001b[39mif\u001b[39;00m timeout \u001b[39mis\u001b[39;00m \u001b[39mNone\u001b[39;00m:\n\u001b[0;32m--> 320\u001b[0m         waiter\u001b[39m.\u001b[39;49macquire()\n\u001b[1;32m    321\u001b[0m         gotit \u001b[39m=\u001b[39m \u001b[39mTrue\u001b[39;00m\n\u001b[1;32m    322\u001b[0m     \u001b[39melse\u001b[39;00m:\n",
      "\u001b[0;31mKeyboardInterrupt\u001b[0m: "
     ]
    }
   ],
   "source": [
    "DATADIR = \"/home/jens/ownCloud/Documents/3.Werk/0.TUe_Research/0.STELAR/VISTA/VISTA_code/data/segmentation_example\"\n",
    "\n",
    "npys = glob.glob(os.path.join(DATADIR, \"LAI\", \"*.npy\"))\n",
    "npys.sort()\n",
    "\n",
    "save_lai_csv(npys[0], DATADIR, n_jobs=8)"
   ]
  },
  {
   "cell_type": "markdown",
   "metadata": {},
   "source": [
    "## 2.2 LAI to CSV: field values\n",
    "\n",
    "**Process**:\n",
    "The function `lai_to_csv_field` will do the following:\n",
    "\n",
    "1. Temporarily save the (partitioned) eopatches as tiffs (necessary for masking with field shapes)\n",
    "2. For each tiff:\n",
    "    1. Load the LAI values.\n",
    "    2. For each field:\n",
    "        1. Mask the LAI values for the field.\n",
    "        2. Take the median of the LAI values for the field for each date.\n",
    "        3. Append the LAI values for the field to the corresponding csv file.\n",
    "3. (Optional) Combine the timeseries of LAI values for each pixel into a single csv file."
   ]
  },
  {
   "cell_type": "code",
   "execution_count": 3,
   "metadata": {},
   "outputs": [
    {
     "name": "stdout",
     "output_type": "stream",
     "text": [
      "Processing eopatch 1/14\n",
      "3. Masking tiff and saving timeseries\r"
     ]
    },
    {
     "name": "stderr",
     "output_type": "stream",
     "text": [
      "100%|██████████| 83198/83198 [17:38<00:00, 78.64it/s] \n"
     ]
    },
    {
     "name": "stdout",
     "output_type": "stream",
     "text": [
      "Done\n",
      "Processing eopatch 2/14s\n",
      "3. Masking tiff and saving timeseries\r"
     ]
    },
    {
     "name": "stderr",
     "output_type": "stream",
     "text": [
      "100%|██████████| 83198/83198 [17:17<00:00, 80.16it/s] \n"
     ]
    },
    {
     "name": "stdout",
     "output_type": "stream",
     "text": [
      "Done\n",
      "Processing eopatch 3/14s\n",
      "3. Masking tiff and saving timeseries\r"
     ]
    },
    {
     "name": "stderr",
     "output_type": "stream",
     "text": [
      "100%|██████████| 83198/83198 [16:29<00:00, 84.07it/s] \n"
     ]
    },
    {
     "name": "stdout",
     "output_type": "stream",
     "text": [
      "Done\n",
      "Processing eopatch 4/14s\n",
      "3. Masking tiff and saving timeseries\r"
     ]
    },
    {
     "name": "stderr",
     "output_type": "stream",
     "text": [
      "100%|██████████| 83198/83198 [17:33<00:00, 78.98it/s] \n"
     ]
    },
    {
     "name": "stdout",
     "output_type": "stream",
     "text": [
      "Done\n",
      "Processing eopatch 5/14s\n",
      "3. Masking tiff and saving timeseries\r"
     ]
    },
    {
     "name": "stderr",
     "output_type": "stream",
     "text": [
      "100%|██████████| 83198/83198 [17:10<00:00, 80.75it/s] \n"
     ]
    },
    {
     "name": "stdout",
     "output_type": "stream",
     "text": [
      "Done\n",
      "Processing eopatch 6/14s\n",
      "3. Masking tiff and saving timeseries\r"
     ]
    },
    {
     "name": "stderr",
     "output_type": "stream",
     "text": [
      "100%|██████████| 83198/83198 [16:50<00:00, 82.30it/s] \n"
     ]
    },
    {
     "name": "stdout",
     "output_type": "stream",
     "text": [
      "Done\n",
      "Processing eopatch 7/14s\n",
      "3. Masking tiff and saving timeseries\r"
     ]
    },
    {
     "name": "stderr",
     "output_type": "stream",
     "text": [
      "100%|██████████| 83198/83198 [17:07<00:00, 81.00it/s] \n"
     ]
    },
    {
     "name": "stdout",
     "output_type": "stream",
     "text": [
      "Done\n",
      "Processing eopatch 8/14s\n",
      "3. Masking tiff and saving timeseries\r"
     ]
    },
    {
     "name": "stderr",
     "output_type": "stream",
     "text": [
      "100%|██████████| 83198/83198 [15:57<00:00, 86.87it/s] \n"
     ]
    },
    {
     "name": "stdout",
     "output_type": "stream",
     "text": [
      "Done\n",
      "Processing eopatch 9/14s\n",
      "3. Masking tiff and saving timeseries\r"
     ]
    },
    {
     "name": "stderr",
     "output_type": "stream",
     "text": [
      "100%|██████████| 83198/83198 [16:13<00:00, 85.46it/s] \n"
     ]
    },
    {
     "name": "stdout",
     "output_type": "stream",
     "text": [
      "Done\n",
      "Processing eopatch 10/14\n",
      "3. Masking tiff and saving timeseries\r"
     ]
    },
    {
     "name": "stderr",
     "output_type": "stream",
     "text": [
      "100%|██████████| 83198/83198 [16:17<00:00, 85.14it/s] \n"
     ]
    },
    {
     "name": "stdout",
     "output_type": "stream",
     "text": [
      "Done\n",
      "Processing eopatch 11/14\n",
      "3. Masking tiff and saving timeseries\r"
     ]
    },
    {
     "name": "stderr",
     "output_type": "stream",
     "text": [
      "100%|██████████| 83198/83198 [16:30<00:00, 83.96it/s] \n"
     ]
    },
    {
     "name": "stdout",
     "output_type": "stream",
     "text": [
      "Done\n",
      "Processing eopatch 12/14\n",
      "3. Masking tiff and saving timeseries\r"
     ]
    },
    {
     "name": "stderr",
     "output_type": "stream",
     "text": [
      "100%|██████████| 83198/83198 [16:23<00:00, 84.56it/s] \n"
     ]
    },
    {
     "name": "stdout",
     "output_type": "stream",
     "text": [
      "Done\n",
      "Processing eopatch 13/14\n",
      "3. Masking tiff and saving timeseries\r"
     ]
    },
    {
     "name": "stderr",
     "output_type": "stream",
     "text": [
      "100%|██████████| 83198/83198 [15:57<00:00, 86.86it/s] \n"
     ]
    },
    {
     "name": "stdout",
     "output_type": "stream",
     "text": [
      "Done\n",
      "Processing eopatch 14/14\n",
      "3. Masking tiff and saving timeseries\r"
     ]
    },
    {
     "name": "stderr",
     "output_type": "stream",
     "text": [
      "100%|██████████| 83198/83198 [16:12<00:00, 85.59it/s] \n"
     ]
    },
    {
     "name": "stdout",
     "output_type": "stream",
     "text": [
      "Done\n",
      "Concatenating timeseries\r"
     ]
    }
   ],
   "source": [
    "from src.preprocessing.timeseries import lai_to_csv_field\n",
    "\n",
    "DATADIR = \"/home/jens/ownCloud/Documents/3.Werk/0.TUe_Research/0.STELAR/VISTA/VISTA_code/data/segmentation_example\"\n",
    "eop_paths = glob.glob(os.path.join(DATADIR, \"lai_eopatch\", 'lai_eopatch_*'))\n",
    "eop_paths.sort()\n",
    "fields_path = os.path.join(DATADIR, \"fields.gpkg\")\n",
    "\n",
    "# Perform the process as described above\n",
    "lai_to_csv_field(eop_paths, fields_path=fields_path, outdir=DATADIR, n_jobs=16, delete_tmp=False)"
   ]
  },
  {
   "cell_type": "code",
   "execution_count": 14,
   "metadata": {},
   "outputs": [
    {
     "name": "stderr",
     "output_type": "stream",
     "text": [
      "ERROR 1: /home/jens/ownCloud/Documents/3.Werk/0.TUe_Research/0.STELAR/VISTA/VISTA_code/data/segmentation_example/tmp.tiff, band 10: An error occurred while writing a dirty block from FlushCache\n",
      "ERROR 1: /home/jens/ownCloud/Documents/3.Werk/0.TUe_Research/0.STELAR/VISTA/VISTA_code/data/segmentation_example/tmp.tiff, band 11: An error occurred while writing a dirty block from FlushCache\n",
      "ERROR 1: /home/jens/ownCloud/Documents/3.Werk/0.TUe_Research/0.STELAR/VISTA/VISTA_code/data/segmentation_example/tmp.tiff, band 12: An error occurred while writing a dirty block from FlushCache\n",
      "ERROR 1: /home/jens/ownCloud/Documents/3.Werk/0.TUe_Research/0.STELAR/VISTA/VISTA_code/data/segmentation_example/tmp.tiff, band 13: An error occurred while writing a dirty block from FlushCache\n",
      "ERROR 1: /home/jens/ownCloud/Documents/3.Werk/0.TUe_Research/0.STELAR/VISTA/VISTA_code/data/segmentation_example/tmp.tiff, band 14: An error occurred while writing a dirty block from FlushCache\n",
      "ERROR 1: /home/jens/ownCloud/Documents/3.Werk/0.TUe_Research/0.STELAR/VISTA/VISTA_code/data/segmentation_example/tmp.tiff, band 15: An error occurred while writing a dirty block from FlushCache\n"
     ]
    },
    {
     "data": {
      "text/html": [
       "<div>\n",
       "<style scoped>\n",
       "    .dataframe tbody tr th:only-of-type {\n",
       "        vertical-align: middle;\n",
       "    }\n",
       "\n",
       "    .dataframe tbody tr th {\n",
       "        vertical-align: top;\n",
       "    }\n",
       "\n",
       "    .dataframe thead th {\n",
       "        text-align: right;\n",
       "    }\n",
       "</style>\n",
       "<table border=\"1\" class=\"dataframe\">\n",
       "  <thead>\n",
       "    <tr style=\"text-align: right;\">\n",
       "      <th></th>\n",
       "      <th>0</th>\n",
       "      <th>3</th>\n",
       "      <th>4</th>\n",
       "      <th>5</th>\n",
       "      <th>6</th>\n",
       "      <th>7</th>\n",
       "      <th>8</th>\n",
       "      <th>9</th>\n",
       "      <th>10</th>\n",
       "      <th>11</th>\n",
       "      <th>...</th>\n",
       "      <th>91986</th>\n",
       "      <th>91987</th>\n",
       "      <th>91988</th>\n",
       "      <th>91989</th>\n",
       "      <th>91990</th>\n",
       "      <th>91991</th>\n",
       "      <th>91992</th>\n",
       "      <th>91993</th>\n",
       "      <th>91994</th>\n",
       "      <th>91996</th>\n",
       "    </tr>\n",
       "  </thead>\n",
       "  <tbody>\n",
       "    <tr>\n",
       "      <th>2021-07-17</th>\n",
       "      <td>928.0</td>\n",
       "      <td>5310.0</td>\n",
       "      <td>2698.0</td>\n",
       "      <td>292.0</td>\n",
       "      <td>244.5</td>\n",
       "      <td>3438.0</td>\n",
       "      <td>289.0</td>\n",
       "      <td>3688.0</td>\n",
       "      <td>3528.0</td>\n",
       "      <td>489.0</td>\n",
       "      <td>...</td>\n",
       "      <td>3474.0</td>\n",
       "      <td>5650.0</td>\n",
       "      <td>NaN</td>\n",
       "      <td>5452.0</td>\n",
       "      <td>4390.0</td>\n",
       "      <td>5400.0</td>\n",
       "      <td>727.0</td>\n",
       "      <td>5616.0</td>\n",
       "      <td>3134.0</td>\n",
       "      <td>1734.0</td>\n",
       "    </tr>\n",
       "    <tr>\n",
       "      <th>2021-07-19</th>\n",
       "      <td>638.0</td>\n",
       "      <td>4780.0</td>\n",
       "      <td>2724.0</td>\n",
       "      <td>253.5</td>\n",
       "      <td>247.0</td>\n",
       "      <td>3124.0</td>\n",
       "      <td>257.0</td>\n",
       "      <td>3416.0</td>\n",
       "      <td>3326.0</td>\n",
       "      <td>481.0</td>\n",
       "      <td>...</td>\n",
       "      <td>3492.0</td>\n",
       "      <td>5220.0</td>\n",
       "      <td>NaN</td>\n",
       "      <td>4916.0</td>\n",
       "      <td>4130.0</td>\n",
       "      <td>4996.0</td>\n",
       "      <td>552.0</td>\n",
       "      <td>5188.0</td>\n",
       "      <td>2912.0</td>\n",
       "      <td>1575.0</td>\n",
       "    </tr>\n",
       "    <tr>\n",
       "      <th>2021-07-22</th>\n",
       "      <td>808.0</td>\n",
       "      <td>4910.0</td>\n",
       "      <td>2634.0</td>\n",
       "      <td>301.0</td>\n",
       "      <td>566.0</td>\n",
       "      <td>3066.0</td>\n",
       "      <td>366.0</td>\n",
       "      <td>3300.0</td>\n",
       "      <td>3162.0</td>\n",
       "      <td>521.0</td>\n",
       "      <td>...</td>\n",
       "      <td>2496.0</td>\n",
       "      <td>3058.0</td>\n",
       "      <td>NaN</td>\n",
       "      <td>3728.0</td>\n",
       "      <td>3538.0</td>\n",
       "      <td>1462.0</td>\n",
       "      <td>1019.0</td>\n",
       "      <td>2822.0</td>\n",
       "      <td>2510.0</td>\n",
       "      <td>1811.0</td>\n",
       "    </tr>\n",
       "    <tr>\n",
       "      <th>2021-07-24</th>\n",
       "      <td>NaN</td>\n",
       "      <td>NaN</td>\n",
       "      <td>NaN</td>\n",
       "      <td>287.0</td>\n",
       "      <td>560.5</td>\n",
       "      <td>NaN</td>\n",
       "      <td>NaN</td>\n",
       "      <td>NaN</td>\n",
       "      <td>NaN</td>\n",
       "      <td>NaN</td>\n",
       "      <td>...</td>\n",
       "      <td>NaN</td>\n",
       "      <td>3746.0</td>\n",
       "      <td>NaN</td>\n",
       "      <td>NaN</td>\n",
       "      <td>NaN</td>\n",
       "      <td>NaN</td>\n",
       "      <td>346.0</td>\n",
       "      <td>NaN</td>\n",
       "      <td>2280.0</td>\n",
       "      <td>3250.0</td>\n",
       "    </tr>\n",
       "    <tr>\n",
       "      <th>2021-08-08</th>\n",
       "      <td>NaN</td>\n",
       "      <td>2844.0</td>\n",
       "      <td>NaN</td>\n",
       "      <td>NaN</td>\n",
       "      <td>NaN</td>\n",
       "      <td>NaN</td>\n",
       "      <td>NaN</td>\n",
       "      <td>NaN</td>\n",
       "      <td>NaN</td>\n",
       "      <td>NaN</td>\n",
       "      <td>...</td>\n",
       "      <td>NaN</td>\n",
       "      <td>3252.0</td>\n",
       "      <td>NaN</td>\n",
       "      <td>NaN</td>\n",
       "      <td>NaN</td>\n",
       "      <td>2796.0</td>\n",
       "      <td>399.0</td>\n",
       "      <td>5000.0</td>\n",
       "      <td>1872.0</td>\n",
       "      <td>1744.0</td>\n",
       "    </tr>\n",
       "  </tbody>\n",
       "</table>\n",
       "<p>5 rows × 83198 columns</p>\n",
       "</div>"
      ],
      "text/plain": [
       "                0       3       4      5      6       7      8       9  \\\n",
       "2021-07-17  928.0  5310.0  2698.0  292.0  244.5  3438.0  289.0  3688.0   \n",
       "2021-07-19  638.0  4780.0  2724.0  253.5  247.0  3124.0  257.0  3416.0   \n",
       "2021-07-22  808.0  4910.0  2634.0  301.0  566.0  3066.0  366.0  3300.0   \n",
       "2021-07-24    NaN     NaN     NaN  287.0  560.5     NaN    NaN     NaN   \n",
       "2021-08-08    NaN  2844.0     NaN    NaN    NaN     NaN    NaN     NaN   \n",
       "\n",
       "                10     11  ...   91986   91987  91988   91989   91990   91991  \\\n",
       "2021-07-17  3528.0  489.0  ...  3474.0  5650.0    NaN  5452.0  4390.0  5400.0   \n",
       "2021-07-19  3326.0  481.0  ...  3492.0  5220.0    NaN  4916.0  4130.0  4996.0   \n",
       "2021-07-22  3162.0  521.0  ...  2496.0  3058.0    NaN  3728.0  3538.0  1462.0   \n",
       "2021-07-24     NaN    NaN  ...     NaN  3746.0    NaN     NaN     NaN     NaN   \n",
       "2021-08-08     NaN    NaN  ...     NaN  3252.0    NaN     NaN     NaN  2796.0   \n",
       "\n",
       "             91992   91993   91994   91996  \n",
       "2021-07-17   727.0  5616.0  3134.0  1734.0  \n",
       "2021-07-19   552.0  5188.0  2912.0  1575.0  \n",
       "2021-07-22  1019.0  2822.0  2510.0  1811.0  \n",
       "2021-07-24   346.0     NaN  2280.0  3250.0  \n",
       "2021-08-08   399.0  5000.0  1872.0  1744.0  \n",
       "\n",
       "[5 rows x 83198 columns]"
      ]
     },
     "execution_count": 14,
     "metadata": {},
     "output_type": "execute_result"
    }
   ],
   "source": [
    "# Read csv file\n",
    "csv_path = os.path.join(DATADIR, \"lai_field_timeseries.csv\")\n",
    "df_field = pd.read_csv(csv_path, index_col=0)\n",
    "\n",
    "df_field.head()"
   ]
  },
  {
   "cell_type": "code",
   "execution_count": 16,
   "metadata": {},
   "outputs": [
    {
     "data": {
      "text/plain": [
       "<Axes: >"
      ]
     },
     "execution_count": 16,
     "metadata": {},
     "output_type": "execute_result"
    },
    {
     "data": {
      "image/png": "[encoded data removed]",
      "text/plain": [
       "<Figure size 640x480 with 1 Axes>"
      ]
     },
     "metadata": {},
     "output_type": "display_data"
    }
   ],
   "source": [
    "df_field.isna().mean(axis=0).hist(bins=100)"
   ]
  },
  {
   "cell_type": "code",
   "execution_count": 7,
   "metadata": {},
   "outputs": [
    {
     "data": {
      "text/html": [
       "<div>\n",
       "<style scoped>\n",
       "    .dataframe tbody tr th:only-of-type {\n",
       "        vertical-align: middle;\n",
       "    }\n",
       "\n",
       "    .dataframe tbody tr th {\n",
       "        vertical-align: top;\n",
       "    }\n",
       "\n",
       "    .dataframe thead th {\n",
       "        text-align: right;\n",
       "    }\n",
       "</style>\n",
       "<table border=\"1\" class=\"dataframe\">\n",
       "  <thead>\n",
       "    <tr style=\"text-align: right;\">\n",
       "      <th></th>\n",
       "      <th></th>\n",
       "      <th>2020-01-11</th>\n",
       "      <th>2020-01-16</th>\n",
       "      <th>2020-01-19</th>\n",
       "      <th>2020-02-03</th>\n",
       "      <th>2020-02-05</th>\n",
       "      <th>2020-02-08</th>\n",
       "      <th>2020-02-15</th>\n",
       "      <th>2020-02-18</th>\n",
       "      <th>2020-02-20</th>\n",
       "      <th>2020-03-09</th>\n",
       "      <th>...</th>\n",
       "      <th>2022-10-07</th>\n",
       "      <th>2022-11-01</th>\n",
       "      <th>2022-11-04</th>\n",
       "      <th>2022-11-11</th>\n",
       "      <th>2022-11-16</th>\n",
       "      <th>2022-12-01</th>\n",
       "      <th>2022-12-04</th>\n",
       "      <th>2022-12-11</th>\n",
       "      <th>2022-12-16</th>\n",
       "      <th>2022-12-21</th>\n",
       "    </tr>\n",
       "    <tr>\n",
       "      <th>x</th>\n",
       "      <th>y</th>\n",
       "      <th></th>\n",
       "      <th></th>\n",
       "      <th></th>\n",
       "      <th></th>\n",
       "      <th></th>\n",
       "      <th></th>\n",
       "      <th></th>\n",
       "      <th></th>\n",
       "      <th></th>\n",
       "      <th></th>\n",
       "      <th></th>\n",
       "      <th></th>\n",
       "      <th></th>\n",
       "      <th></th>\n",
       "      <th></th>\n",
       "      <th></th>\n",
       "      <th></th>\n",
       "      <th></th>\n",
       "      <th></th>\n",
       "      <th></th>\n",
       "      <th></th>\n",
       "    </tr>\n",
       "  </thead>\n",
       "  <tbody>\n",
       "    <tr>\n",
       "      <th>0</th>\n",
       "      <th>0</th>\n",
       "      <td>2963.0</td>\n",
       "      <td>2978.0</td>\n",
       "      <td>3577.0</td>\n",
       "      <td>2676.0</td>\n",
       "      <td>3547.0</td>\n",
       "      <td>1179.0</td>\n",
       "      <td>1100.0</td>\n",
       "      <td>3709.0</td>\n",
       "      <td>3478.0</td>\n",
       "      <td>NaN</td>\n",
       "      <td>...</td>\n",
       "      <td>3235.0</td>\n",
       "      <td>4906.0</td>\n",
       "      <td>4645.0</td>\n",
       "      <td>4648.0</td>\n",
       "      <td>4716.0</td>\n",
       "      <td>4193.0</td>\n",
       "      <td>3331.0</td>\n",
       "      <td>3660.0</td>\n",
       "      <td>2949.0</td>\n",
       "      <td>NaN</td>\n",
       "    </tr>\n",
       "    <tr>\n",
       "      <th>1</th>\n",
       "      <th>0</th>\n",
       "      <td>2622.0</td>\n",
       "      <td>2971.0</td>\n",
       "      <td>3188.0</td>\n",
       "      <td>2314.0</td>\n",
       "      <td>3213.0</td>\n",
       "      <td>1218.0</td>\n",
       "      <td>1116.0</td>\n",
       "      <td>3687.0</td>\n",
       "      <td>3501.0</td>\n",
       "      <td>NaN</td>\n",
       "      <td>...</td>\n",
       "      <td>3507.0</td>\n",
       "      <td>5269.0</td>\n",
       "      <td>5040.0</td>\n",
       "      <td>4931.0</td>\n",
       "      <td>5027.0</td>\n",
       "      <td>4088.0</td>\n",
       "      <td>3584.0</td>\n",
       "      <td>3657.0</td>\n",
       "      <td>3017.0</td>\n",
       "      <td>NaN</td>\n",
       "    </tr>\n",
       "    <tr>\n",
       "      <th>2</th>\n",
       "      <th>0</th>\n",
       "      <td>2547.0</td>\n",
       "      <td>3339.0</td>\n",
       "      <td>3859.0</td>\n",
       "      <td>2265.0</td>\n",
       "      <td>3278.0</td>\n",
       "      <td>1147.0</td>\n",
       "      <td>1084.0</td>\n",
       "      <td>3991.0</td>\n",
       "      <td>3883.0</td>\n",
       "      <td>NaN</td>\n",
       "      <td>...</td>\n",
       "      <td>3336.0</td>\n",
       "      <td>5102.0</td>\n",
       "      <td>4872.0</td>\n",
       "      <td>5248.0</td>\n",
       "      <td>4785.0</td>\n",
       "      <td>4024.0</td>\n",
       "      <td>3733.0</td>\n",
       "      <td>3842.0</td>\n",
       "      <td>3142.0</td>\n",
       "      <td>NaN</td>\n",
       "    </tr>\n",
       "    <tr>\n",
       "      <th>3</th>\n",
       "      <th>0</th>\n",
       "      <td>2611.0</td>\n",
       "      <td>3454.0</td>\n",
       "      <td>3059.0</td>\n",
       "      <td>2369.0</td>\n",
       "      <td>3457.0</td>\n",
       "      <td>1033.0</td>\n",
       "      <td>981.0</td>\n",
       "      <td>3248.0</td>\n",
       "      <td>3682.0</td>\n",
       "      <td>NaN</td>\n",
       "      <td>...</td>\n",
       "      <td>3361.0</td>\n",
       "      <td>5271.0</td>\n",
       "      <td>5326.0</td>\n",
       "      <td>5220.0</td>\n",
       "      <td>5116.0</td>\n",
       "      <td>4293.0</td>\n",
       "      <td>4181.0</td>\n",
       "      <td>3685.0</td>\n",
       "      <td>3211.0</td>\n",
       "      <td>NaN</td>\n",
       "    </tr>\n",
       "    <tr>\n",
       "      <th>4</th>\n",
       "      <th>0</th>\n",
       "      <td>2651.0</td>\n",
       "      <td>2829.0</td>\n",
       "      <td>3223.0</td>\n",
       "      <td>2355.0</td>\n",
       "      <td>3511.0</td>\n",
       "      <td>1114.0</td>\n",
       "      <td>962.0</td>\n",
       "      <td>3371.0</td>\n",
       "      <td>3514.0</td>\n",
       "      <td>NaN</td>\n",
       "      <td>...</td>\n",
       "      <td>3247.0</td>\n",
       "      <td>4751.0</td>\n",
       "      <td>5434.0</td>\n",
       "      <td>5098.0</td>\n",
       "      <td>5056.0</td>\n",
       "      <td>4367.0</td>\n",
       "      <td>3825.0</td>\n",
       "      <td>3629.0</td>\n",
       "      <td>3225.0</td>\n",
       "      <td>NaN</td>\n",
       "    </tr>\n",
       "  </tbody>\n",
       "</table>\n",
       "<p>5 rows × 239 columns</p>\n",
       "</div>"
      ],
      "text/plain": [
       "     2020-01-11  2020-01-16  2020-01-19  2020-02-03  2020-02-05  2020-02-08  \\\n",
       "x y                                                                           \n",
       "0 0      2963.0      2978.0      3577.0      2676.0      3547.0      1179.0   \n",
       "1 0      2622.0      2971.0      3188.0      2314.0      3213.0      1218.0   \n",
       "2 0      2547.0      3339.0      3859.0      2265.0      3278.0      1147.0   \n",
       "3 0      2611.0      3454.0      3059.0      2369.0      3457.0      1033.0   \n",
       "4 0      2651.0      2829.0      3223.0      2355.0      3511.0      1114.0   \n",
       "\n",
       "     2020-02-15  2020-02-18  2020-02-20  2020-03-09  ...  2022-10-07  \\\n",
       "x y                                                  ...               \n",
       "0 0      1100.0      3709.0      3478.0         NaN  ...      3235.0   \n",
       "1 0      1116.0      3687.0      3501.0         NaN  ...      3507.0   \n",
       "2 0      1084.0      3991.0      3883.0         NaN  ...      3336.0   \n",
       "3 0       981.0      3248.0      3682.0         NaN  ...      3361.0   \n",
       "4 0       962.0      3371.0      3514.0         NaN  ...      3247.0   \n",
       "\n",
       "     2022-11-01  2022-11-04  2022-11-11  2022-11-16  2022-12-01  2022-12-04  \\\n",
       "x y                                                                           \n",
       "0 0      4906.0      4645.0      4648.0      4716.0      4193.0      3331.0   \n",
       "1 0      5269.0      5040.0      4931.0      5027.0      4088.0      3584.0   \n",
       "2 0      5102.0      4872.0      5248.0      4785.0      4024.0      3733.0   \n",
       "3 0      5271.0      5326.0      5220.0      5116.0      4293.0      4181.0   \n",
       "4 0      4751.0      5434.0      5098.0      5056.0      4367.0      3825.0   \n",
       "\n",
       "     2022-12-11  2022-12-16  2022-12-21  \n",
       "x y                                      \n",
       "0 0      3660.0      2949.0         NaN  \n",
       "1 0      3657.0      3017.0         NaN  \n",
       "2 0      3842.0      3142.0         NaN  \n",
       "3 0      3685.0      3211.0         NaN  \n",
       "4 0      3629.0      3225.0         NaN  \n",
       "\n",
       "[5 rows x 239 columns]"
      ]
     },
     "execution_count": 7,
     "metadata": {},
     "output_type": "execute_result"
    }
   ],
   "source": [
    "csv_path = \"/home/jens/ownCloud/Documents/3.Werk/0.TUe_Research/0.STELAR/VISTA/VISTA_code/data/segmentation_example/lai_px_timeseries/patchlet_0_0.csv.gz\"\n",
    "\n",
    "df = pd.read_csv(csv_path, compression=\"gzip\", index_col=[0,1])\n",
    "\n",
    "df.head()"
   ]
  },
  {
   "cell_type": "code",
   "execution_count": 10,
   "metadata": {},
   "outputs": [
    {
     "data": {
      "text/plain": [
       "<Axes: >"
      ]
     },
     "execution_count": 10,
     "metadata": {},
     "output_type": "execute_result"
    },
    {
     "data": {
      "image/png": "[encoded data removed]",
      "text/plain": [
       "<Figure size 640x480 with 1 Axes>"
      ]
     },
     "metadata": {},
     "output_type": "display_data"
    }
   ],
   "source": [
    "df.isna().mean(axis=1).hist(bins=100)"
   ]
  },
  {
   "cell_type": "markdown",
   "metadata": {},
   "source": [
    "# 3 ALTERNATIVE; LAI to DB"
   ]
  },
  {
   "cell_type": "markdown",
   "metadata": {},
   "source": [
    "In this step we will convert the LAI values to a timeseries of LAI values for each pixel OR field (extracted in the segmentation pipeline).\n",
    "The conversion into timeseries will be done per image.\n",
    "\n",
    "The values for each pixel or field will be stored in a database, which can be queried later on to extract the timeseries for a specific pixel or field.\n",
    "This is done to limit the amount of data that has to be stored in memory and to facilitate continuous insertion of new data.\n",
    "\n",
    "**Assumptions**:\n",
    "- One has stored the EOPatch objects in a folder `$DATADIR` following the structure `DATADIR/lai_eopatch/lai_eopatch_{start_date}` (see step 1)."
   ]
  },
  {
   "cell_type": "markdown",
   "metadata": {},
   "source": [
    "## Intermezzo: setting up the postgres database"
   ]
  },
  {
   "cell_type": "markdown",
   "metadata": {},
   "source": [
    "### Step 1: Installing postgres on Ubuntu\n",
    "\n",
    "Follow the instructions on this [link](https://www.postgresqltutorial.com/postgresql-getting-started/install-postgresql-linux/)"
   ]
  },
  {
   "cell_type": "markdown",
   "metadata": {},
   "source": [
    "### Step 2: Creating the necessary users and databases\n",
    "\n",
    "1. Login to postgres via the command line: \n",
    "```bash\n",
    "sudo -i -u postgres psql\n",
    "```\n",
    "2. Create a new user `vista_user` with password `stelar`:\n",
    "```sql\n",
    "CREATE USER vista_user WITH PASSWORD 'stelar';\n",
    "```\n",
    "3. Create the database for this project named `stelar_vista` and grant read/write privileges to the user `stelar_vista:\n",
    "```sql\n",
    "CREATE DATABASE stelar_vista;\n",
    "GRANT ALL ON DATABASE stelar_vista TO vista_user;\n",
    "GRANT SELECT, INSERT, UPDATE ON ALL TABLES IN SCHEMA public TO vista_user;\n",
    "```"
   ]
  },
  {
   "cell_type": "markdown",
   "metadata": {},
   "source": [
    "## 3.1 LAI to DB: pixel values"
   ]
  },
  {
   "cell_type": "markdown",
   "metadata": {},
   "source": [
    "**Process**:\n",
    "The function `lai_to_db_px` will do the following:\n",
    "For each image:\n",
    "1. Load the LAI values.\n",
    "2. Insert the LAI values in a PSQL database."
   ]
  },
  {
   "cell_type": "code",
   "execution_count": 2,
   "metadata": {},
   "outputs": [
    {
     "name": "stdout",
     "output_type": "stream",
     "text": [
      "Connection successful to database 'stelar_vista'\n"
     ]
    }
   ],
   "source": [
    "from src.dblib import drop_table, create_table, connect_to_db\n",
    "from src.db.tables import LaiPxTable\n",
    "\n",
    "with connect_to_db() as db:\n",
    "    drop_table(db, LaiPxTable)\n",
    "    create_table(db, LaiPxTable)"
   ]
  },
  {
   "cell_type": "code",
   "execution_count": 2,
   "metadata": {},
   "outputs": [],
   "source": [
    "def get_good_px_df(LAI: np.ndarray) -> pd.DataFrame:\n",
    "    \"\"\"\n",
    "    Get all pixel coordinates and values with a valid LAI value\n",
    "    \"\"\"\n",
    "    # Get all x,y coordinates as list of tuples\n",
    "    x, y = np.meshgrid(np.arange(LAI.shape[0]), np.arange(LAI.shape[1]))\n",
    "    x, y = x.flatten(), y.flatten()\n",
    "\n",
    "    # Flatten the LAI array\n",
    "    LAI = LAI.flatten()\n",
    "\n",
    "    # Create dataframe\n",
    "    df = pd.DataFrame({\"x\": x, \"y\": y, \"LAI\": LAI})\n",
    "\n",
    "    # Get all good LAI values\n",
    "    df = df[df[\"LAI\"] > 0]\n",
    "\n",
    "    return df"
   ]
  },
  {
   "cell_type": "code",
   "execution_count": 13,
   "metadata": {},
   "outputs": [],
   "source": [
    "from src.dblib import connect_to_db\n",
    "from src.db.tables import LaiPxTable\n",
    "\n",
    "def insert_laipx_npy(npy_path:str, tile_id:str = \"30TYQ\"):\n",
    "    POSTGRES_MAX = 500_000\n",
    "\n",
    "    with connect_to_db() as db:\n",
    "        # Create database first if necessary\n",
    "        db.create_tables([LaiPxTable])\n",
    "\n",
    "        # Load the npy file into memory\n",
    "        LAI = np.load(npy_path)\n",
    "\n",
    "        dtstr = os.path.basename(npy_path).replace(\".npy\", \"\")\n",
    "        datetime = dt.datetime.strptime(dtstr, \"%Y_%m_%d\")\n",
    "\n",
    "        # Insert the LAI values in bulk into the database\n",
    "        print(f\"Inserting LAI values for date {datetime}\")\n",
    "\n",
    "        # Get all good x,y coordinates and values\n",
    "        pxdf = get_good_px_df(LAI)\n",
    "\n",
    "        \n",
    "        npartitions = int(np.ceil(len(pxdf) / POSTGRES_MAX))\n",
    "\n",
    "        # Insert the good values in chunks of size POSTGRES_MAX\n",
    "        for i,start in enumerate(range(0, len(pxdf), POSTGRES_MAX)):\n",
    "            print(f\"Inserting chunk {i+1}/{npartitions}\", end=\"\\r\")\n",
    "\n",
    "            localdf = pxdf.iloc[start:start+POSTGRES_MAX]\n",
    "\n",
    "            # Add the datetime to the dataframe\n",
    "            localdf[\"datetime\"] = datetime\n",
    "\n",
    "            # Add the tile_id to the dataframe\n",
    "            localdf[\"tile_id\"] = tile_id\n",
    "\n",
    "            # Add the px_name to the dataframe\n",
    "            localdf[\"px_name\"] = localdf.tile_id + \"_\" + localdf.x.astype(str) + \"_\" + localdf.y.astype(str)\n",
    "\n",
    "            # Get the chunk as a list of tuples\n",
    "            rows = localdf.to_records(index=False).tolist()\n",
    "\n",
    "            # Insert the values into the database\n",
    "            fields = [LaiPxTable.datetime, LaiPxTable.tile_id, LaiPxTable.px_name, LaiPxTable.x, LaiPxTable.y, LaiPxTable.value]\n",
    "            with db.atomic():\n",
    "                LaiPxTable.insert_many(rows, fields=fields).execute()\n"
   ]
  },
  {
   "cell_type": "code",
   "execution_count": 14,
   "metadata": {},
   "outputs": [
    {
     "name": "stdout",
     "output_type": "stream",
     "text": [
      "Connection successful to database 'stelar_vista'\n",
      "Inserting LAI values for date 2020-01-06 00:00:00\n",
      "Inserting chunk 1/114\r"
     ]
    },
    {
     "name": "stderr",
     "output_type": "stream",
     "text": [
      "/tmp/ipykernel_2832249/1940553901.py:34: SettingWithCopyWarning: \n",
      "A value is trying to be set on a copy of a slice from a DataFrame.\n",
      "Try using .loc[row_indexer,col_indexer] = value instead\n",
      "\n",
      "See the caveats in the documentation: https://pandas.pydata.org/pandas-docs/stable/user_guide/indexing.html#returning-a-view-versus-a-copy\n",
      "  localdf[\"datetime\"] = datetime\n",
      "/tmp/ipykernel_2832249/1940553901.py:37: SettingWithCopyWarning: \n",
      "A value is trying to be set on a copy of a slice from a DataFrame.\n",
      "Try using .loc[row_indexer,col_indexer] = value instead\n",
      "\n",
      "See the caveats in the documentation: https://pandas.pydata.org/pandas-docs/stable/user_guide/indexing.html#returning-a-view-versus-a-copy\n",
      "  localdf[\"tile_id\"] = tile_id\n",
      "/tmp/ipykernel_2832249/1940553901.py:40: SettingWithCopyWarning: \n",
      "A value is trying to be set on a copy of a slice from a DataFrame.\n",
      "Try using .loc[row_indexer,col_indexer] = value instead\n",
      "\n",
      "See the caveats in the documentation: https://pandas.pydata.org/pandas-docs/stable/user_guide/indexing.html#returning-a-view-versus-a-copy\n",
      "  localdf[\"px_name\"] = localdf.tile_id + \"_\" + localdf.x.astype(str) + \"_\" + localdf.y.astype(str)\n"
     ]
    },
    {
     "ename": "KeyboardInterrupt",
     "evalue": "",
     "output_type": "error",
     "traceback": [
      "\u001b[0;31m---------------------------------------------------------------------------\u001b[0m",
      "\u001b[0;31mKeyboardInterrupt\u001b[0m                         Traceback (most recent call last)",
      "Cell \u001b[0;32mIn[14], line 6\u001b[0m\n\u001b[1;32m      3\u001b[0m npys \u001b[39m=\u001b[39m glob\u001b[39m.\u001b[39mglob(os\u001b[39m.\u001b[39mpath\u001b[39m.\u001b[39mjoin(DATADIR, \u001b[39m\"\u001b[39m\u001b[39mLAI\u001b[39m\u001b[39m\"\u001b[39m, \u001b[39m\"\u001b[39m\u001b[39m*.npy\u001b[39m\u001b[39m\"\u001b[39m))\n\u001b[1;32m      4\u001b[0m npys\u001b[39m.\u001b[39msort()\n\u001b[0;32m----> 6\u001b[0m insert_laipx_npy(npys[\u001b[39m0\u001b[39;49m])\n",
      "Cell \u001b[0;32mIn[13], line 48\u001b[0m, in \u001b[0;36minsert_laipx_npy\u001b[0;34m(npy_path, tile_id)\u001b[0m\n\u001b[1;32m     46\u001b[0m fields \u001b[39m=\u001b[39m [LaiPxTable\u001b[39m.\u001b[39mdatetime, LaiPxTable\u001b[39m.\u001b[39mtile_id, LaiPxTable\u001b[39m.\u001b[39mpx_name, LaiPxTable\u001b[39m.\u001b[39mx, LaiPxTable\u001b[39m.\u001b[39my, LaiPxTable\u001b[39m.\u001b[39mvalue]\n\u001b[1;32m     47\u001b[0m \u001b[39mwith\u001b[39;00m db\u001b[39m.\u001b[39matomic():\n\u001b[0;32m---> 48\u001b[0m     LaiPxTable\u001b[39m.\u001b[39;49minsert_many(rows, fields\u001b[39m=\u001b[39;49mfields)\u001b[39m.\u001b[39;49mexecute()\n",
      "File \u001b[0;32m~/ownCloud/Documents/3.Werk/0.TUe_Research/0.STELAR/VISTA/VISTA_code/.venv/lib/python3.10/site-packages/peewee.py:1971\u001b[0m, in \u001b[0;36mdatabase_required.<locals>.inner\u001b[0;34m(self, database, *args, **kwargs)\u001b[0m\n\u001b[1;32m   1968\u001b[0m \u001b[39mif\u001b[39;00m \u001b[39mnot\u001b[39;00m database:\n\u001b[1;32m   1969\u001b[0m     \u001b[39mraise\u001b[39;00m InterfaceError(\u001b[39m'\u001b[39m\u001b[39mQuery must be bound to a database in order \u001b[39m\u001b[39m'\u001b[39m\n\u001b[1;32m   1970\u001b[0m                          \u001b[39m'\u001b[39m\u001b[39mto call \u001b[39m\u001b[39m\"\u001b[39m\u001b[39m%s\u001b[39;00m\u001b[39m\"\u001b[39m\u001b[39m.\u001b[39m\u001b[39m'\u001b[39m \u001b[39m%\u001b[39m method\u001b[39m.\u001b[39m\u001b[39m__name__\u001b[39m)\n\u001b[0;32m-> 1971\u001b[0m \u001b[39mreturn\u001b[39;00m method(\u001b[39mself\u001b[39;49m, database, \u001b[39m*\u001b[39;49margs, \u001b[39m*\u001b[39;49m\u001b[39m*\u001b[39;49mkwargs)\n",
      "File \u001b[0;32m~/ownCloud/Documents/3.Werk/0.TUe_Research/0.STELAR/VISTA/VISTA_code/.venv/lib/python3.10/site-packages/peewee.py:2042\u001b[0m, in \u001b[0;36mBaseQuery.execute\u001b[0;34m(self, database)\u001b[0m\n\u001b[1;32m   2040\u001b[0m \u001b[39m@database_required\u001b[39m\n\u001b[1;32m   2041\u001b[0m \u001b[39mdef\u001b[39;00m \u001b[39mexecute\u001b[39m(\u001b[39mself\u001b[39m, database):\n\u001b[0;32m-> 2042\u001b[0m     \u001b[39mreturn\u001b[39;00m \u001b[39mself\u001b[39;49m\u001b[39m.\u001b[39;49m_execute(database)\n",
      "File \u001b[0;32m~/ownCloud/Documents/3.Werk/0.TUe_Research/0.STELAR/VISTA/VISTA_code/.venv/lib/python3.10/site-packages/peewee.py:2847\u001b[0m, in \u001b[0;36mInsert._execute\u001b[0;34m(self, database)\u001b[0m\n\u001b[1;32m   2845\u001b[0m     \u001b[39mself\u001b[39m\u001b[39m.\u001b[39m_returning \u001b[39m=\u001b[39m (\u001b[39mself\u001b[39m\u001b[39m.\u001b[39mtable\u001b[39m.\u001b[39m_primary_key,)\n\u001b[1;32m   2846\u001b[0m \u001b[39mtry\u001b[39;00m:\n\u001b[0;32m-> 2847\u001b[0m     \u001b[39mreturn\u001b[39;00m \u001b[39msuper\u001b[39;49m(Insert, \u001b[39mself\u001b[39;49m)\u001b[39m.\u001b[39;49m_execute(database)\n\u001b[1;32m   2848\u001b[0m \u001b[39mexcept\u001b[39;00m \u001b[39mself\u001b[39m\u001b[39m.\u001b[39mDefaultValuesException:\n\u001b[1;32m   2849\u001b[0m     \u001b[39mpass\u001b[39;00m\n",
      "File \u001b[0;32m~/ownCloud/Documents/3.Werk/0.TUe_Research/0.STELAR/VISTA/VISTA_code/.venv/lib/python3.10/site-packages/peewee.py:2558\u001b[0m, in \u001b[0;36m_WriteQuery._execute\u001b[0;34m(self, database)\u001b[0m\n\u001b[1;32m   2556\u001b[0m \u001b[39mdef\u001b[39;00m \u001b[39m_execute\u001b[39m(\u001b[39mself\u001b[39m, database):\n\u001b[1;32m   2557\u001b[0m     \u001b[39mif\u001b[39;00m \u001b[39mself\u001b[39m\u001b[39m.\u001b[39m_returning:\n\u001b[0;32m-> 2558\u001b[0m         cursor \u001b[39m=\u001b[39m \u001b[39mself\u001b[39;49m\u001b[39m.\u001b[39;49mexecute_returning(database)\n\u001b[1;32m   2559\u001b[0m     \u001b[39melse\u001b[39;00m:\n\u001b[1;32m   2560\u001b[0m         cursor \u001b[39m=\u001b[39m database\u001b[39m.\u001b[39mexecute(\u001b[39mself\u001b[39m)\n",
      "File \u001b[0;32m~/ownCloud/Documents/3.Werk/0.TUe_Research/0.STELAR/VISTA/VISTA_code/.venv/lib/python3.10/site-packages/peewee.py:2565\u001b[0m, in \u001b[0;36m_WriteQuery.execute_returning\u001b[0;34m(self, database)\u001b[0m\n\u001b[1;32m   2563\u001b[0m \u001b[39mdef\u001b[39;00m \u001b[39mexecute_returning\u001b[39m(\u001b[39mself\u001b[39m, database):\n\u001b[1;32m   2564\u001b[0m     \u001b[39mif\u001b[39;00m \u001b[39mself\u001b[39m\u001b[39m.\u001b[39m_cursor_wrapper \u001b[39mis\u001b[39;00m \u001b[39mNone\u001b[39;00m:\n\u001b[0;32m-> 2565\u001b[0m         cursor \u001b[39m=\u001b[39m database\u001b[39m.\u001b[39;49mexecute(\u001b[39mself\u001b[39;49m)\n\u001b[1;32m   2566\u001b[0m         \u001b[39mself\u001b[39m\u001b[39m.\u001b[39m_cursor_wrapper \u001b[39m=\u001b[39m \u001b[39mself\u001b[39m\u001b[39m.\u001b[39m_get_cursor_wrapper(cursor)\n\u001b[1;32m   2567\u001b[0m     \u001b[39mreturn\u001b[39;00m \u001b[39mself\u001b[39m\u001b[39m.\u001b[39m_cursor_wrapper\n",
      "File \u001b[0;32m~/ownCloud/Documents/3.Werk/0.TUe_Research/0.STELAR/VISTA/VISTA_code/.venv/lib/python3.10/site-packages/peewee.py:3258\u001b[0m, in \u001b[0;36mDatabase.execute\u001b[0;34m(self, query, commit, **context_options)\u001b[0m\n\u001b[1;32m   3256\u001b[0m     __deprecated__(\u001b[39m'\u001b[39m\u001b[39m\"\u001b[39m\u001b[39mcommit\u001b[39m\u001b[39m\"\u001b[39m\u001b[39m has been deprecated and is a no-op.\u001b[39m\u001b[39m'\u001b[39m)\n\u001b[1;32m   3257\u001b[0m ctx \u001b[39m=\u001b[39m \u001b[39mself\u001b[39m\u001b[39m.\u001b[39mget_sql_context(\u001b[39m*\u001b[39m\u001b[39m*\u001b[39mcontext_options)\n\u001b[0;32m-> 3258\u001b[0m sql, params \u001b[39m=\u001b[39m ctx\u001b[39m.\u001b[39;49msql(query)\u001b[39m.\u001b[39mquery()\n\u001b[1;32m   3259\u001b[0m \u001b[39mreturn\u001b[39;00m \u001b[39mself\u001b[39m\u001b[39m.\u001b[39mexecute_sql(sql, params)\n",
      "File \u001b[0;32m~/ownCloud/Documents/3.Werk/0.TUe_Research/0.STELAR/VISTA/VISTA_code/.venv/lib/python3.10/site-packages/peewee.py:628\u001b[0m, in \u001b[0;36mContext.sql\u001b[0;34m(self, obj)\u001b[0m\n\u001b[1;32m    626\u001b[0m \u001b[39mdef\u001b[39;00m \u001b[39msql\u001b[39m(\u001b[39mself\u001b[39m, obj):\n\u001b[1;32m    627\u001b[0m     \u001b[39mif\u001b[39;00m \u001b[39misinstance\u001b[39m(obj, (Node, Context)):\n\u001b[0;32m--> 628\u001b[0m         \u001b[39mreturn\u001b[39;00m obj\u001b[39m.\u001b[39;49m__sql__(\u001b[39mself\u001b[39;49m)\n\u001b[1;32m    629\u001b[0m     \u001b[39melif\u001b[39;00m is_model(obj):\n\u001b[1;32m    630\u001b[0m         \u001b[39mreturn\u001b[39;00m obj\u001b[39m.\u001b[39m_meta\u001b[39m.\u001b[39mtable\u001b[39m.\u001b[39m__sql__(\u001b[39mself\u001b[39m)\n",
      "File \u001b[0;32m~/ownCloud/Documents/3.Werk/0.TUe_Research/0.STELAR/VISTA/VISTA_code/.venv/lib/python3.10/site-packages/peewee.py:2832\u001b[0m, in \u001b[0;36mInsert.__sql__\u001b[0;34m(self, ctx)\u001b[0m\n\u001b[1;32m   2830\u001b[0m     \u001b[39mself\u001b[39m\u001b[39m.\u001b[39m_query_type \u001b[39m=\u001b[39m Insert\u001b[39m.\u001b[39mQUERY\n\u001b[1;32m   2831\u001b[0m \u001b[39melse\u001b[39;00m:\n\u001b[0;32m-> 2832\u001b[0m     \u001b[39mself\u001b[39;49m\u001b[39m.\u001b[39;49m_generate_insert(\u001b[39mself\u001b[39;49m\u001b[39m.\u001b[39;49m_insert, ctx)\n\u001b[1;32m   2833\u001b[0m     \u001b[39mself\u001b[39m\u001b[39m.\u001b[39m_query_type \u001b[39m=\u001b[39m Insert\u001b[39m.\u001b[39mMULTI\n\u001b[1;32m   2835\u001b[0m \u001b[39mif\u001b[39;00m \u001b[39mself\u001b[39m\u001b[39m.\u001b[39m_on_conflict \u001b[39mis\u001b[39;00m \u001b[39mnot\u001b[39;00m \u001b[39mNone\u001b[39;00m:\n",
      "File \u001b[0;32m~/ownCloud/Documents/3.Werk/0.TUe_Research/0.STELAR/VISTA/VISTA_code/.venv/lib/python3.10/site-packages/peewee.py:2757\u001b[0m, in \u001b[0;36mInsert._generate_insert\u001b[0;34m(self, insert, ctx)\u001b[0m\n\u001b[1;32m   2755\u001b[0m \u001b[39mfor\u001b[39;00m row \u001b[39min\u001b[39;00m rows_iter:\n\u001b[1;32m   2756\u001b[0m     values \u001b[39m=\u001b[39m []\n\u001b[0;32m-> 2757\u001b[0m     is_dict \u001b[39m=\u001b[39m \u001b[39misinstance\u001b[39;49m(row, Mapping)\n\u001b[1;32m   2758\u001b[0m     \u001b[39mfor\u001b[39;00m i, (column, converter) \u001b[39min\u001b[39;00m \u001b[39menumerate\u001b[39m(columns_converters):\n\u001b[1;32m   2759\u001b[0m         \u001b[39mtry\u001b[39;00m:\n",
      "File \u001b[0;32m/usr/lib/python3.10/abc.py:117\u001b[0m, in \u001b[0;36mABCMeta.__instancecheck__\u001b[0;34m(cls, instance)\u001b[0m\n\u001b[1;32m    111\u001b[0m \u001b[39m    \u001b[39m\u001b[39m\"\"\"Register a virtual subclass of an ABC.\u001b[39;00m\n\u001b[1;32m    112\u001b[0m \n\u001b[1;32m    113\u001b[0m \u001b[39m    Returns the subclass, to allow usage as a class decorator.\u001b[39;00m\n\u001b[1;32m    114\u001b[0m \u001b[39m    \"\"\"\u001b[39;00m\n\u001b[1;32m    115\u001b[0m     \u001b[39mreturn\u001b[39;00m _abc_register(\u001b[39mcls\u001b[39m, subclass)\n\u001b[0;32m--> 117\u001b[0m \u001b[39mdef\u001b[39;00m \u001b[39m__instancecheck__\u001b[39m(\u001b[39mcls\u001b[39m, instance):\n\u001b[1;32m    118\u001b[0m \u001b[39m    \u001b[39m\u001b[39m\"\"\"Override for isinstance(instance, cls).\"\"\"\u001b[39;00m\n\u001b[1;32m    119\u001b[0m     \u001b[39mreturn\u001b[39;00m _abc_instancecheck(\u001b[39mcls\u001b[39m, instance)\n",
      "\u001b[0;31mKeyboardInterrupt\u001b[0m: "
     ]
    }
   ],
   "source": [
    "DATADIR = \"/home/jens/ownCloud/Documents/3.Werk/0.TUe_Research/0.STELAR/VISTA/VISTA_code/data/segmentation_example\"\n",
    "\n",
    "npys = glob.glob(os.path.join(DATADIR, \"LAI\", \"*.npy\"))\n",
    "npys.sort()\n",
    "\n",
    "insert_laipx_npy(npys[0])"
   ]
  }
 ],
 "metadata": {
  "kernelspec": {
   "display_name": ".venv",
   "language": "python",
   "name": "python3"
  },
  "language_info": {
   "codemirror_mode": {
    "name": "ipython",
    "version": 3
   },
   "file_extension": ".py",
   "mimetype": "text/x-python",
   "name": "python",
   "nbconvert_exporter": "python",
   "pygments_lexer": "ipython3",
   "version": "3.10.12"
  },
  "orig_nbformat": 4
 },
 "nbformat": 4,
 "nbformat_minor": 2
}
